{
 "cells": [
  {
   "cell_type": "code",
   "execution_count": 183,
   "metadata": {},
   "outputs": [],
   "source": [
    "import asyncio\n",
    "import websockets\n",
    "import json\n",
    "import pandas as pd\n",
    "from csv import writer\n",
    "from tqdm import tqdm\n",
    "from datetime import datetime, timedelta\n",
    "import numpy as np\n",
    "import time\n",
    "from pandas._libs.window.aggregations import ewma\n",
    "import time\n",
    "\n",
    "from model import *\n",
    "from utils import *"
   ]
  },
  {
   "cell_type": "code",
   "execution_count": 184,
   "metadata": {},
   "outputs": [],
   "source": [
    "# window size\n",
    "WINDOW_SIZE = 100\n",
    "\n",
    "# features\n",
    "FEATURES = ['bid_diff_feature_1', 'ask_diff_feature_1']\n",
    "\n",
    "# ewma params\n",
    "COM = 10\n",
    "GAMMA = 20\n",
    "\n",
    "# lob depth\n",
    "DEPTH = 10"
   ]
  },
  {
   "cell_type": "code",
   "execution_count": 185,
   "metadata": {},
   "outputs": [],
   "source": [
    "msg = \\\n",
    "{\n",
    "  \"jsonrpc\" : \"2.0\",\n",
    "  \"id\" : 8772,\n",
    "  \"method\" : \"public/get_order_book\",\n",
    "  \"params\" : {\n",
    "    \"instrument_name\" : \"BTC-PERPETUAL\",\n",
    "    \"depth\" : DEPTH,\n",
    "  }\n",
    "}\n"
   ]
  },
  {
   "cell_type": "code",
   "execution_count": null,
   "metadata": {},
   "outputs": [],
   "source": [
    "model_name = \"20210714_000000\""
   ]
  },
  {
   "cell_type": "code",
   "execution_count": 186,
   "metadata": {},
   "outputs": [],
   "source": [
    "model = build_model(window_size=WINDOW_SIZE, n_features=len(FEATURES))\n",
    "model.load_weights(f'_output/models/{model_name}.h5')"
   ]
  },
  {
   "cell_type": "markdown",
   "metadata": {},
   "source": [
    "# This should be reworked since the input is now different for the predictor"
   ]
  },
  {
   "cell_type": "code",
   "execution_count": null,
   "metadata": {},
   "outputs": [],
   "source": [
    "X1 = np.zeros((1, 100, 40, 1))\n",
    "X2 = np.zeros((1, 100, 2))\n",
    "\n",
    "predictions = np.zeros(100)\n",
    "\n",
    "best_bid_price, best_ask_price = 0, 0\n",
    "\n",
    "pnl = 0\n",
    "money = 0\n",
    "holdings = 0\n",
    "fees = 0\n",
    "trades = 0\n",
    "\n",
    "async with websockets.connect('wss://www.deribit.com/ws/api/v2') as websocket:\n",
    "    \n",
    "    i = 0\n",
    "    \n",
    "    t_start = time.time()\n",
    "    \n",
    "    print(f\"{'time':12}{'latency':12}{'iter':12}{'bid':12}{'ask':12}{'trades':12}{'position':12}{'pnl':12}{'fees':12}\")\n",
    "    \n",
    "    while True:\n",
    "        \n",
    "        t_iter_start = time.time()\n",
    "\n",
    "        await websocket.send(json.dumps(msg))\n",
    "        \n",
    "        data = await websocket.recv()\n",
    "        data = json.loads(data)\n",
    "        \n",
    "        new_best_bid_price = data['result']['best_bid_price']\n",
    "        new_best_ask_price = data['result']['best_ask_price']\n",
    "\n",
    "        l = 10.\n",
    "        u = 1000000.\n",
    "\n",
    "        aps = np.array([a[0] for a in data['result']['asks']]) - new_best_ask_price\n",
    "        avs = (np.array([a[1] for a in data['result']['asks']]) - l) / (u - l)\n",
    "        bps = new_best_bid_price - np.array([b[0] for b in data['result']['bids']])\n",
    "        bvs = (np.array([b[1] for b in data['result']['bids']]) - l) / (u - l)\n",
    "                \n",
    "        X1 = np.roll(X1, -1, axis=1)\n",
    "        X1[0, -1, :, 0] = [x for items in zip(aps, bps, avs, bvs) for x in items]\n",
    "        \n",
    "        X2 = np.roll(X2, -1, axis=1)\n",
    "        X2[0, -1, :] = [new_best_bid_price - best_bid_price, best_ask_price - new_best_ask_price]\n",
    "        \n",
    "        best_bid_price = new_best_bid_price\n",
    "        best_ask_price = new_best_ask_price\n",
    "        \n",
    "        predictions = np.roll(predictions, -1)\n",
    "        predictions[-1] = GAMMA * (np.argmax(model.predict([X1, X2]), axis=1) - 1.)\n",
    "        \n",
    "        strategy = np.minimum(1., np.maximum(-1., np.round(ewma(predictions, COM, True, True, 1))))[-1]\n",
    "        \n",
    "        if i > 100:\n",
    "        \n",
    "            diff = strategy - holdings\n",
    "            holdings += diff\n",
    "            trades += abs(diff) > 0\n",
    "\n",
    "            # trade\n",
    "            money_diff = np.maximum(diff, 0) * best_ask_price + np.minimum(diff, 0) * best_bid_price\n",
    "            money -= money_diff\n",
    "            fees += abs(money_diff) * 0.0005\n",
    "            \n",
    "            pnl = money + holdings * (best_ask_price + best_bid_price) / 2\n",
    "        \n",
    "        t_elapsed = time.time() - t_start\n",
    "        t_iter_elapsed = 1000 * (time.time() - t_iter_start)\n",
    "        \n",
    "        output = f\"{int(t_elapsed//60//60%24):02}:{int(t_elapsed//60%60):02}:{int(t_elapsed%60):02}\" + \" \"*4\n",
    "        output += f\"{int(t_iter_elapsed):3}ms\" + \" \"*7\n",
    "        output += f\"{i:<12}\"\n",
    "        output += f\"{best_bid_price:<12.2f}\"\n",
    "        output += f\"{best_ask_price:<12.2f}\"\n",
    "        output += f\"{trades:<12}\"\n",
    "        output += f\"{holdings:<12}\"\n",
    "        output += f\"{pnl:<12.2f}\"\n",
    "        output += f\"{fees:.2f}\"\n",
    "        output += \"\\r\"\n",
    "\n",
    "        print(output, end='')\n",
    "        \n",
    "        i += 1"
   ]
  }
 ],
 "metadata": {
  "kernelspec": {
   "display_name": "Python 3",
   "language": "python",
   "name": "python3"
  },
  "language_info": {
   "codemirror_mode": {
    "name": "ipython",
    "version": 3
   },
   "file_extension": ".py",
   "mimetype": "text/x-python",
   "name": "python",
   "nbconvert_exporter": "python",
   "pygments_lexer": "ipython3",
   "version": "3.9.5"
  }
 },
 "nbformat": 4,
 "nbformat_minor": 4
}
