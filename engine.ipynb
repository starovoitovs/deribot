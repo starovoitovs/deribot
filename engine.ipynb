{
 "cells": [
  {
   "cell_type": "code",
   "execution_count": 115,
   "metadata": {},
   "outputs": [],
   "source": [
    "import asyncio\n",
    "import websockets\n",
    "import json\n",
    "import pandas as pd\n",
    "from csv import writer\n",
    "from tqdm import tqdm\n",
    "from datetime import datetime, timedelta\n",
    "import numpy as np\n",
    "import time\n",
    "from pandas._libs.window.aggregations import ewma\n",
    "import time\n",
    "\n",
    "from model import *\n",
    "from utils import *"
   ]
  },
  {
   "cell_type": "code",
   "execution_count": 61,
   "metadata": {},
   "outputs": [],
   "source": [
    "# window size\n",
    "WINDOW_SIZE = 100\n",
    "\n",
    "# features\n",
    "FEATURES = ['bid_diff_feature_1', 'ask_diff_feature_1']\n",
    "\n",
    "# ewma params\n",
    "COM = 10\n",
    "GAMMA = 20"
   ]
  },
  {
   "cell_type": "code",
   "execution_count": 7,
   "metadata": {},
   "outputs": [],
   "source": [
    "msg = \\\n",
    "{\n",
    "  \"jsonrpc\" : \"2.0\",\n",
    "  \"id\" : 8772,\n",
    "  \"method\" : \"public/get_order_book\",\n",
    "  \"params\" : {\n",
    "    \"instrument_name\" : \"BTC-PERPETUAL\",\n",
    "    \"depth\" : 10,\n",
    "  }\n",
    "}\n"
   ]
  },
  {
   "cell_type": "code",
   "execution_count": 180,
   "metadata": {},
   "outputs": [],
   "source": [
    "model = build_model(window_size=WINDOW_SIZE, n_features=len(FEATURES))\n",
    "model.load_weights('_output/model.h5')"
   ]
  },
  {
   "cell_type": "code",
   "execution_count": 182,
   "metadata": {},
   "outputs": [
    {
     "name": "stdout",
     "output_type": "stream",
     "text": [
      "time        latency     iter        bid         ask         trades      position    pnl         fees        \n",
      "00:16:42    184ms       6835        31812.50    31813.00    146         1.0         32.25       2658.146\r"
     ]
    },
    {
     "ename": "CancelledError",
     "evalue": "",
     "output_type": "error",
     "traceback": [
      "\u001b[0;31m---------------------------------------------------------------------------\u001b[0m",
      "\u001b[0;31mCancelledError\u001b[0m                            Traceback (most recent call last)",
      "\u001b[0;32m<ipython-input-182-cc8f5fcf9690>\u001b[0m in \u001b[0;36m<module>\u001b[0;34m\u001b[0m\n\u001b[1;32m     26\u001b[0m         \u001b[0;32mawait\u001b[0m \u001b[0mwebsocket\u001b[0m\u001b[0;34m.\u001b[0m\u001b[0msend\u001b[0m\u001b[0;34m(\u001b[0m\u001b[0mjson\u001b[0m\u001b[0;34m.\u001b[0m\u001b[0mdumps\u001b[0m\u001b[0;34m(\u001b[0m\u001b[0mmsg\u001b[0m\u001b[0;34m)\u001b[0m\u001b[0;34m)\u001b[0m\u001b[0;34m\u001b[0m\u001b[0;34m\u001b[0m\u001b[0m\n\u001b[1;32m     27\u001b[0m \u001b[0;34m\u001b[0m\u001b[0m\n\u001b[0;32m---> 28\u001b[0;31m         \u001b[0mdata\u001b[0m \u001b[0;34m=\u001b[0m \u001b[0;32mawait\u001b[0m \u001b[0mwebsocket\u001b[0m\u001b[0;34m.\u001b[0m\u001b[0mrecv\u001b[0m\u001b[0;34m(\u001b[0m\u001b[0;34m)\u001b[0m\u001b[0;34m\u001b[0m\u001b[0;34m\u001b[0m\u001b[0m\n\u001b[0m\u001b[1;32m     29\u001b[0m         \u001b[0mdata\u001b[0m \u001b[0;34m=\u001b[0m \u001b[0mjson\u001b[0m\u001b[0;34m.\u001b[0m\u001b[0mloads\u001b[0m\u001b[0;34m(\u001b[0m\u001b[0mdata\u001b[0m\u001b[0;34m)\u001b[0m\u001b[0;34m\u001b[0m\u001b[0;34m\u001b[0m\u001b[0m\n\u001b[1;32m     30\u001b[0m \u001b[0;34m\u001b[0m\u001b[0m\n",
      "\u001b[0;32m/usr/local/lib/python3.9/site-packages/websockets/protocol.py\u001b[0m in \u001b[0;36mrecv\u001b[0;34m(self)\u001b[0m\n\u001b[1;32m    490\u001b[0m                 \u001b[0;31m# If asyncio.wait() is canceled, it doesn't cancel\u001b[0m\u001b[0;34m\u001b[0m\u001b[0;34m\u001b[0m\u001b[0;34m\u001b[0m\u001b[0m\n\u001b[1;32m    491\u001b[0m                 \u001b[0;31m# pop_message_waiter and self.transfer_data_task.\u001b[0m\u001b[0;34m\u001b[0m\u001b[0;34m\u001b[0m\u001b[0;34m\u001b[0m\u001b[0m\n\u001b[0;32m--> 492\u001b[0;31m                 await asyncio.wait(\n\u001b[0m\u001b[1;32m    493\u001b[0m                     \u001b[0;34m[\u001b[0m\u001b[0mpop_message_waiter\u001b[0m\u001b[0;34m,\u001b[0m \u001b[0mself\u001b[0m\u001b[0;34m.\u001b[0m\u001b[0mtransfer_data_task\u001b[0m\u001b[0;34m]\u001b[0m\u001b[0;34m,\u001b[0m\u001b[0;34m\u001b[0m\u001b[0;34m\u001b[0m\u001b[0m\n\u001b[1;32m    494\u001b[0m                     \u001b[0mloop\u001b[0m\u001b[0;34m=\u001b[0m\u001b[0mself\u001b[0m\u001b[0;34m.\u001b[0m\u001b[0mloop\u001b[0m \u001b[0;32mif\u001b[0m \u001b[0msys\u001b[0m\u001b[0;34m.\u001b[0m\u001b[0mversion_info\u001b[0m\u001b[0;34m[\u001b[0m\u001b[0;34m:\u001b[0m\u001b[0;36m2\u001b[0m\u001b[0;34m]\u001b[0m \u001b[0;34m<\u001b[0m \u001b[0;34m(\u001b[0m\u001b[0;36m3\u001b[0m\u001b[0;34m,\u001b[0m \u001b[0;36m8\u001b[0m\u001b[0;34m)\u001b[0m \u001b[0;32melse\u001b[0m \u001b[0;32mNone\u001b[0m\u001b[0;34m,\u001b[0m\u001b[0;34m\u001b[0m\u001b[0;34m\u001b[0m\u001b[0m\n",
      "\u001b[0;32m/usr/local/Cellar/python@3.9/3.9.5/Frameworks/Python.framework/Versions/3.9/lib/python3.9/asyncio/tasks.py\u001b[0m in \u001b[0;36mwait\u001b[0;34m(fs, loop, timeout, return_when)\u001b[0m\n\u001b[1;32m    411\u001b[0m     \u001b[0mfs\u001b[0m \u001b[0;34m=\u001b[0m \u001b[0;34m{\u001b[0m\u001b[0mensure_future\u001b[0m\u001b[0;34m(\u001b[0m\u001b[0mf\u001b[0m\u001b[0;34m,\u001b[0m \u001b[0mloop\u001b[0m\u001b[0;34m=\u001b[0m\u001b[0mloop\u001b[0m\u001b[0;34m)\u001b[0m \u001b[0;32mfor\u001b[0m \u001b[0mf\u001b[0m \u001b[0;32min\u001b[0m \u001b[0mfs\u001b[0m\u001b[0;34m}\u001b[0m\u001b[0;34m\u001b[0m\u001b[0;34m\u001b[0m\u001b[0m\n\u001b[1;32m    412\u001b[0m \u001b[0;34m\u001b[0m\u001b[0m\n\u001b[0;32m--> 413\u001b[0;31m     \u001b[0;32mreturn\u001b[0m \u001b[0;32mawait\u001b[0m \u001b[0m_wait\u001b[0m\u001b[0;34m(\u001b[0m\u001b[0mfs\u001b[0m\u001b[0;34m,\u001b[0m \u001b[0mtimeout\u001b[0m\u001b[0;34m,\u001b[0m \u001b[0mreturn_when\u001b[0m\u001b[0;34m,\u001b[0m \u001b[0mloop\u001b[0m\u001b[0;34m)\u001b[0m\u001b[0;34m\u001b[0m\u001b[0;34m\u001b[0m\u001b[0m\n\u001b[0m\u001b[1;32m    414\u001b[0m \u001b[0;34m\u001b[0m\u001b[0m\n\u001b[1;32m    415\u001b[0m \u001b[0;34m\u001b[0m\u001b[0m\n",
      "\u001b[0;32m/usr/local/Cellar/python@3.9/3.9.5/Frameworks/Python.framework/Versions/3.9/lib/python3.9/asyncio/tasks.py\u001b[0m in \u001b[0;36m_wait\u001b[0;34m(fs, timeout, return_when, loop)\u001b[0m\n\u001b[1;32m    527\u001b[0m \u001b[0;34m\u001b[0m\u001b[0m\n\u001b[1;32m    528\u001b[0m     \u001b[0;32mtry\u001b[0m\u001b[0;34m:\u001b[0m\u001b[0;34m\u001b[0m\u001b[0;34m\u001b[0m\u001b[0m\n\u001b[0;32m--> 529\u001b[0;31m         \u001b[0;32mawait\u001b[0m \u001b[0mwaiter\u001b[0m\u001b[0;34m\u001b[0m\u001b[0;34m\u001b[0m\u001b[0m\n\u001b[0m\u001b[1;32m    530\u001b[0m     \u001b[0;32mfinally\u001b[0m\u001b[0;34m:\u001b[0m\u001b[0;34m\u001b[0m\u001b[0;34m\u001b[0m\u001b[0m\n\u001b[1;32m    531\u001b[0m         \u001b[0;32mif\u001b[0m \u001b[0mtimeout_handle\u001b[0m \u001b[0;32mis\u001b[0m \u001b[0;32mnot\u001b[0m \u001b[0;32mNone\u001b[0m\u001b[0;34m:\u001b[0m\u001b[0;34m\u001b[0m\u001b[0;34m\u001b[0m\u001b[0m\n",
      "\u001b[0;31mCancelledError\u001b[0m: "
     ]
    }
   ],
   "source": [
    "X1 = np.zeros((1, 100, 40, 1))\n",
    "X2 = np.zeros((1, 100, 2))\n",
    "\n",
    "predictions = np.zeros(100)\n",
    "\n",
    "best_bid_price, best_ask_price = 0, 0\n",
    "\n",
    "pnl = 0\n",
    "money = 0\n",
    "holdings = 0\n",
    "fees = 0\n",
    "trades = 0\n",
    "\n",
    "async with websockets.connect('wss://www.deribit.com/ws/api/v2') as websocket:\n",
    "    \n",
    "    i = 0\n",
    "    \n",
    "    t_start = time.time()\n",
    "    \n",
    "    print(f\"{'time':12}{'latency':12}{'iter':12}{'bid':12}{'ask':12}{'trades':12}{'position':12}{'pnl':12}{'fees':12}\")\n",
    "    \n",
    "    while True:\n",
    "        \n",
    "        t_iter_start = time.time()\n",
    "\n",
    "        await websocket.send(json.dumps(msg))\n",
    "        \n",
    "        data = await websocket.recv()\n",
    "        data = json.loads(data)\n",
    "        \n",
    "        new_best_bid_price = data['result']['best_bid_price']\n",
    "        new_best_ask_price = data['result']['best_ask_price']\n",
    "\n",
    "        l = 10.\n",
    "        u = 1000000.\n",
    "\n",
    "        aps = np.array([a[0] for a in data['result']['asks']]) - new_best_ask_price\n",
    "        avs = (np.array([a[1] for a in data['result']['asks']]) - l) / (u - l)\n",
    "        bps = new_best_bid_price - np.array([b[0] for b in data['result']['bids']])\n",
    "        bvs = (np.array([b[1] for b in data['result']['bids']]) - l) / (u - l)\n",
    "                \n",
    "        X1 = np.roll(X1, -1, axis=1)\n",
    "        X1[0, -1, :, 0] = [x for items in zip(aps, bps, avs, bvs) for x in items]\n",
    "        \n",
    "        X2 = np.roll(X2, -1, axis=1)\n",
    "        X2[0, -1, :] = [new_best_bid_price - best_bid_price, best_ask_price - new_best_ask_price]\n",
    "        \n",
    "        best_bid_price = new_best_bid_price\n",
    "        best_ask_price = new_best_ask_price\n",
    "        \n",
    "        predictions = np.roll(predictions, -1)\n",
    "        predictions[-1] = GAMMA * (np.argmax(model.predict([X1, X2]), axis=1) - 1.)\n",
    "        \n",
    "        strategy = np.minimum(1., np.maximum(-1., np.round(ewma(predictions, COM, True, True, 1))))[-1]\n",
    "        \n",
    "        if i > 100:\n",
    "        \n",
    "            diff = strategy - holdings\n",
    "            holdings += diff\n",
    "            trades += abs(diff) > 0\n",
    "\n",
    "            # trade\n",
    "            money_diff = np.maximum(diff, 0) * best_ask_price + np.minimum(diff, 0) * best_bid_price\n",
    "            money -= money_diff\n",
    "            fees += abs(money_diff) * 0.0005\n",
    "            \n",
    "            pnl = money + holdings * (best_ask_price + best_bid_price) / 2\n",
    "        \n",
    "        t_elapsed = time.time() - t_start\n",
    "        t_iter_elapsed = 1000 * (time.time() - t_iter_start)\n",
    "        \n",
    "        output = f\"{int(t_elapsed//60//60%24):02}:{int(t_elapsed//60%60):02}:{int(t_elapsed%60):02}\" + \" \"*4\n",
    "        output += f\"{int(t_iter_elapsed):3}ms\" + \" \"*7\n",
    "        output += f\"{i:<12}\"\n",
    "        output += f\"{best_bid_price:<12.2f}\"\n",
    "        output += f\"{best_ask_price:<12.2f}\"\n",
    "        output += f\"{trades:<12}\"\n",
    "        output += f\"{holdings:<12}\"\n",
    "        output += f\"{pnl:<12.2f}\"\n",
    "        output += f\"{fees:.2f}\"\n",
    "        output += \"\\r\"\n",
    "\n",
    "        print(output, end='')\n",
    "        \n",
    "        i += 1"
   ]
  }
 ],
 "metadata": {
  "kernelspec": {
   "display_name": "Python 3",
   "language": "python",
   "name": "python3"
  },
  "language_info": {
   "codemirror_mode": {
    "name": "ipython",
    "version": 3
   },
   "file_extension": ".py",
   "mimetype": "text/x-python",
   "name": "python",
   "nbconvert_exporter": "python",
   "pygments_lexer": "ipython3",
   "version": "3.9.5"
  }
 },
 "nbformat": 4,
 "nbformat_minor": 4
}
