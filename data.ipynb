{
 "cells": [
  {
   "cell_type": "code",
   "execution_count": 7,
   "metadata": {},
   "outputs": [],
   "source": [
    "import asyncio\n",
    "import websockets\n",
    "import json\n",
    "import pandas as pd\n",
    "from csv import writer\n",
    "from tqdm import tqdm\n",
    "from datetime import datetime, timedelta\n",
    "import numpy as np"
   ]
  },
  {
   "cell_type": "code",
   "execution_count": 8,
   "metadata": {},
   "outputs": [],
   "source": [
    "msg = \\\n",
    "{\n",
    "  \"jsonrpc\" : \"2.0\",\n",
    "  \"id\" : 8772,\n",
    "  \"method\" : \"public/get_order_book\",\n",
    "  \"params\" : {\n",
    "    \"instrument_name\" : \"BTC-PERPETUAL\",\n",
    "    \"depth\" : 10,\n",
    "  }\n",
    "}\n",
    "\n",
    "async def call_api(msg):\n",
    "    async with websockets.connect('wss://test.deribit.com/ws/api/v2') as websocket:\n",
    "        await websocket.send(msg)\n",
    "        while websocket.open:\n",
    "            response = await websocket.recv()\n",
    "            return response\n"
   ]
  },
  {
   "cell_type": "code",
   "execution_count": null,
   "metadata": {},
   "outputs": [
    {
     "name": "stderr",
     "output_type": "stream",
     "text": [
      "  0%|          | 453/100000 [19:05<82:27:15,  2.98s/it] "
     ]
    }
   ],
   "source": [
    "keys = ['timestamp', 'best_bid_price', 'best_ask_price', 'estimated_delivery_price', 'index_price', 'mark_price', 'open_interest', 'settlement_price', 'change_id']\n",
    "columns = keys + [x for i in range(10) for x in [f\"ap_{i}\", f\"av_{i}\", f\"bp_{i}\", f\"bv_{i}\"]]\n",
    "\n",
    "old_lob_state = None\n",
    "\n",
    "with open('data2.csv', 'w') as f:\n",
    "    \n",
    "    w = writer(f)\n",
    "    w.writerow(columns)\n",
    "    \n",
    "    for i in tqdm(range(100000)):\n",
    "\n",
    "        while True:\n",
    "            data = await call_api(json.dumps(msg))\n",
    "            data = json.loads(data)\n",
    "            new_lob_state = [y for x in data['result']['bids'] + data['result']['asks'] for y in x]\n",
    "            if old_lob_state != new_lob_state: break\n",
    "                \n",
    "        old_lob_state = new_lob_state\n",
    "        \n",
    "        vals = [data['result'][k] for k in keys]\n",
    "\n",
    "        best_bid_price = data['result']['best_bid_price']\n",
    "        best_ask_price = data['result']['best_ask_price']\n",
    "        \n",
    "        aps = [a[0] for a in data['result']['asks']]\n",
    "        avs = [a[1] for a in data['result']['asks']]\n",
    "        bps = [b[0] for b in data['result']['bids']]\n",
    "        bvs = [b[1] for b in data['result']['bids']]\n",
    "\n",
    "        vals += [x for ap, av, bp, bv in zip(aps, avs, bps, bvs) for x in [ap, av, bp, bv]]\n",
    "        w.writerow(vals)\n",
    "\n",
    "    f.close()"
   ]
  },
  {
   "cell_type": "code",
   "execution_count": null,
   "metadata": {},
   "outputs": [],
   "source": []
  }
 ],
 "metadata": {
  "kernelspec": {
   "display_name": "Python 3",
   "language": "python",
   "name": "python3"
  },
  "language_info": {
   "codemirror_mode": {
    "name": "ipython",
    "version": 3
   },
   "file_extension": ".py",
   "mimetype": "text/x-python",
   "name": "python",
   "nbconvert_exporter": "python",
   "pygments_lexer": "ipython3",
   "version": "3.9.5"
  }
 },
 "nbformat": 4,
 "nbformat_minor": 4
}
