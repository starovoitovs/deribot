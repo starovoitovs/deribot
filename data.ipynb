{
 "cells": [
  {
   "cell_type": "code",
   "execution_count": 1,
   "metadata": {},
   "outputs": [],
   "source": [
    "import asyncio\n",
    "import websockets\n",
    "import json\n",
    "import pandas as pd\n",
    "from csv import writer\n",
    "from tqdm import tqdm\n",
    "from datetime import datetime, timedelta\n",
    "import numpy as np\n",
    "import time"
   ]
  },
  {
   "cell_type": "code",
   "execution_count": 2,
   "metadata": {},
   "outputs": [],
   "source": [
    "msg = \\\n",
    "{\n",
    "  \"jsonrpc\" : \"2.0\",\n",
    "  \"id\" : 8772,\n",
    "  \"method\" : \"public/get_order_book\",\n",
    "  \"params\" : {\n",
    "    \"instrument_name\" : \"BTC-PERPETUAL\",\n",
    "    \"depth\" : 10,\n",
    "  }\n",
    "}\n"
   ]
  },
  {
   "cell_type": "code",
   "execution_count": 5,
   "metadata": {},
   "outputs": [
    {
     "name": "stderr",
     "output_type": "stream",
     "text": [
      "  0%|          | 239/100000 [00:34<4:03:22,  6.83it/s] \n"
     ]
    },
    {
     "ename": "ConnectionClosedOK",
     "evalue": "code = 1000 (OK), reason = over_limit",
     "output_type": "error",
     "traceback": [
      "\u001b[0;31m---------------------------------------------------------------------------\u001b[0m",
      "\u001b[0;31mConnectionClosedOK\u001b[0m                        Traceback (most recent call last)",
      "\u001b[0;32m<ipython-input-5-35ba4c3ebf1d>\u001b[0m in \u001b[0;36m<module>\u001b[0;34m\u001b[0m\n\u001b[1;32m     17\u001b[0m \u001b[0;34m\u001b[0m\u001b[0m\n\u001b[1;32m     18\u001b[0m             \u001b[0;32mwhile\u001b[0m \u001b[0;32mTrue\u001b[0m\u001b[0;34m:\u001b[0m\u001b[0;34m\u001b[0m\u001b[0;34m\u001b[0m\u001b[0m\n\u001b[0;32m---> 19\u001b[0;31m                 \u001b[0;32mawait\u001b[0m \u001b[0mwebsocket\u001b[0m\u001b[0;34m.\u001b[0m\u001b[0msend\u001b[0m\u001b[0;34m(\u001b[0m\u001b[0mjson\u001b[0m\u001b[0;34m.\u001b[0m\u001b[0mdumps\u001b[0m\u001b[0;34m(\u001b[0m\u001b[0mmsg\u001b[0m\u001b[0;34m)\u001b[0m\u001b[0;34m)\u001b[0m\u001b[0;34m\u001b[0m\u001b[0;34m\u001b[0m\u001b[0m\n\u001b[0m\u001b[1;32m     20\u001b[0m                 \u001b[0mdata\u001b[0m \u001b[0;34m=\u001b[0m \u001b[0;32mawait\u001b[0m \u001b[0mwebsocket\u001b[0m\u001b[0;34m.\u001b[0m\u001b[0mrecv\u001b[0m\u001b[0;34m(\u001b[0m\u001b[0;34m)\u001b[0m\u001b[0;34m\u001b[0m\u001b[0;34m\u001b[0m\u001b[0m\n\u001b[1;32m     21\u001b[0m                 \u001b[0mdata\u001b[0m \u001b[0;34m=\u001b[0m \u001b[0mjson\u001b[0m\u001b[0;34m.\u001b[0m\u001b[0mloads\u001b[0m\u001b[0;34m(\u001b[0m\u001b[0mdata\u001b[0m\u001b[0;34m)\u001b[0m\u001b[0;34m\u001b[0m\u001b[0;34m\u001b[0m\u001b[0m\n",
      "\u001b[0;32m/usr/local/lib/python3.9/site-packages/websockets/protocol.py\u001b[0m in \u001b[0;36msend\u001b[0;34m(self, message)\u001b[0m\n\u001b[1;32m    553\u001b[0m \u001b[0;34m\u001b[0m\u001b[0m\n\u001b[1;32m    554\u001b[0m         \"\"\"\n\u001b[0;32m--> 555\u001b[0;31m         \u001b[0;32mawait\u001b[0m \u001b[0mself\u001b[0m\u001b[0;34m.\u001b[0m\u001b[0mensure_open\u001b[0m\u001b[0;34m(\u001b[0m\u001b[0;34m)\u001b[0m\u001b[0;34m\u001b[0m\u001b[0;34m\u001b[0m\u001b[0m\n\u001b[0m\u001b[1;32m    556\u001b[0m \u001b[0;34m\u001b[0m\u001b[0m\n\u001b[1;32m    557\u001b[0m         \u001b[0;31m# While sending a fragmented message, prevent sending other messages\u001b[0m\u001b[0;34m\u001b[0m\u001b[0;34m\u001b[0m\u001b[0;34m\u001b[0m\u001b[0m\n",
      "\u001b[0;32m/usr/local/lib/python3.9/site-packages/websockets/protocol.py\u001b[0m in \u001b[0;36mensure_open\u001b[0;34m(self)\u001b[0m\n\u001b[1;32m    801\u001b[0m \u001b[0;34m\u001b[0m\u001b[0m\n\u001b[1;32m    802\u001b[0m         \u001b[0;32mif\u001b[0m \u001b[0mself\u001b[0m\u001b[0;34m.\u001b[0m\u001b[0mstate\u001b[0m \u001b[0;32mis\u001b[0m \u001b[0mState\u001b[0m\u001b[0;34m.\u001b[0m\u001b[0mCLOSED\u001b[0m\u001b[0;34m:\u001b[0m\u001b[0;34m\u001b[0m\u001b[0;34m\u001b[0m\u001b[0m\n\u001b[0;32m--> 803\u001b[0;31m             \u001b[0;32mraise\u001b[0m \u001b[0mself\u001b[0m\u001b[0;34m.\u001b[0m\u001b[0mconnection_closed_exc\u001b[0m\u001b[0;34m(\u001b[0m\u001b[0;34m)\u001b[0m\u001b[0;34m\u001b[0m\u001b[0;34m\u001b[0m\u001b[0m\n\u001b[0m\u001b[1;32m    804\u001b[0m \u001b[0;34m\u001b[0m\u001b[0m\n\u001b[1;32m    805\u001b[0m         \u001b[0;32mif\u001b[0m \u001b[0mself\u001b[0m\u001b[0;34m.\u001b[0m\u001b[0mstate\u001b[0m \u001b[0;32mis\u001b[0m \u001b[0mState\u001b[0m\u001b[0;34m.\u001b[0m\u001b[0mCLOSING\u001b[0m\u001b[0;34m:\u001b[0m\u001b[0;34m\u001b[0m\u001b[0;34m\u001b[0m\u001b[0m\n",
      "\u001b[0;31mConnectionClosedOK\u001b[0m: code = 1000 (OK), reason = over_limit"
     ]
    }
   ],
   "source": [
    "keys = ['timestamp', 'best_bid_price', 'best_ask_price', 'estimated_delivery_price', 'index_price', 'mark_price', 'open_interest', 'settlement_price', 'change_id']\n",
    "columns = keys + [x for i in range(10) for x in [f\"ap_{i}\", f\"av_{i}\", f\"bp_{i}\", f\"bv_{i}\"]]\n",
    "\n",
    "old_lob_state = None\n",
    "\n",
    "async with websockets.connect('wss://www.deribit.com/ws/api/v2') as websocket:\n",
    "    \n",
    "    utc_timestamp = datetime.utcnow().strftime('%Y%m%d_%H%M%S')\n",
    "    filename = f'_input/data/{utc_timestamp}.csv'\n",
    "\n",
    "    with open(filename, 'w') as f:\n",
    "\n",
    "        w = writer(f)\n",
    "        w.writerow(columns)\n",
    "\n",
    "        for i in tqdm(range(100000)):\n",
    "\n",
    "            while True:\n",
    "                \n",
    "                await websocket.send(json.dumps(msg))\n",
    "                data = await websocket.recv()\n",
    "                data = json.loads(data)\n",
    "                \n",
    "                if 'result' not in data:\n",
    "                    continue\n",
    "                \n",
    "                new_lob_state = [y for x in data['result']['bids'] + data['result']['asks'] for y in x]\n",
    "                if old_lob_state != new_lob_state: break\n",
    "\n",
    "            old_lob_state = new_lob_state\n",
    "\n",
    "            vals = [data['result'][k] for k in keys]\n",
    "\n",
    "            best_bid_price = data['result']['best_bid_price']\n",
    "            best_ask_price = data['result']['best_ask_price']\n",
    "\n",
    "            aps = [a[0] for a in data['result']['asks']]\n",
    "            avs = [a[1] for a in data['result']['asks']]\n",
    "            bps = [b[0] for b in data['result']['bids']]\n",
    "            bvs = [b[1] for b in data['result']['bids']]\n",
    "\n",
    "            vals += [x for ap, av, bp, bv in zip(aps, avs, bps, bvs) for x in [ap, av, bp, bv]]\n",
    "            w.writerow(vals)\n",
    "\n",
    "        f.close()"
   ]
  }
 ],
 "metadata": {
  "kernelspec": {
   "display_name": "Python 3",
   "language": "python",
   "name": "python3"
  },
  "language_info": {
   "codemirror_mode": {
    "name": "ipython",
    "version": 3
   },
   "file_extension": ".py",
   "mimetype": "text/x-python",
   "name": "python",
   "nbconvert_exporter": "python",
   "pygments_lexer": "ipython3",
   "version": "3.9.5"
  }
 },
 "nbformat": 4,
 "nbformat_minor": 4
}
